{
  "cells": [
    {
      "cell_type": "markdown",
      "metadata": {
        "id": "view-in-github",
        "colab_type": "text"
      },
      "source": [
        "<a href=\"https://colab.research.google.com/github/e-upho/Programaci-n-Aplicada/blob/main/Corte%202/Numpy/Ejercicios_Numpy.ipynb\" target=\"_parent\"><img src=\"https://colab.research.google.com/assets/colab-badge.svg\" alt=\"Open In Colab\"/></a>"
      ]
    },
    {
      "cell_type": "code",
      "source": [
        "import numpy as np# Importa la librería NumPy, esencial para operaciones numéricas avanzadas.\n",
        "\n",
        "sample_list = [1, 2, 3]# Define una lista simple de Python.\n",
        "\n",
        "np.array(sample_list)# Convierte la lista de Python en un array de NumPy."
      ],
      "outputs": [
        {
          "output_type": "execute_result",
          "data": {
            "text/plain": [
              "array([1, 2, 3])"
            ]
          },
          "metadata": {},
          "execution_count": 74
        }
      ],
      "execution_count": null,
      "metadata": {
        "colab": {
          "base_uri": "https://localhost:8080/"
        },
        "id": "UykqxC3DarUm",
        "outputId": "a1b9f1e0-a761-44df-b5a5-bf8eea6cec6d"
      }
    },
    {
      "cell_type": "code",
      "source": [
        "my_vector = np.array(['this', 'is', 'a', 'vector'])# Crea un array de NumPy con elementos de tipo cadena (texto).\n",
        "print(my_vector)"
      ],
      "outputs": [
        {
          "output_type": "stream",
          "name": "stdout",
          "text": [
            "['this' 'is' 'a' 'vector']\n"
          ]
        }
      ],
      "execution_count": null,
      "metadata": {
        "colab": {
          "base_uri": "https://localhost:8080/"
        },
        "id": "-nN3VUiHarUp",
        "outputId": "a08768f2-6ac7-4921-ecf8-48e383bbdee2"
      }
    },
    {
      "cell_type": "code",
      "source": [
        "my_matrix = [[1, 2, 3],[4, 5, 6],[7, 8, 9]]# Define una matriz como una lista anidada de Python.\n",
        "\n",
        "np.array(my_matrix)# Convierte la lista anidada en una matriz (array bidimensional) de NumPy."
      ],
      "outputs": [
        {
          "output_type": "execute_result",
          "data": {
            "text/plain": [
              "array([[1, 2, 3],\n",
              "       [4, 5, 6],\n",
              "       [7, 8, 9]])"
            ]
          },
          "metadata": {},
          "execution_count": 72
        }
      ],
      "execution_count": null,
      "metadata": {
        "colab": {
          "base_uri": "https://localhost:8080/"
        },
        "id": "cLkNsL5farUp",
        "outputId": "03224e7b-547c-4cdb-e431-ff603e50eeed"
      }
    },
    {
      "cell_type": "code",
      "source": [
        "np.arange(0,5)# Crea un array con números enteros desde 0 hasta 4 (excluyendo el 5)."
      ],
      "outputs": [
        {
          "output_type": "execute_result",
          "data": {
            "text/plain": [
              "array([0, 1, 2, 3, 4])"
            ]
          },
          "metadata": {},
          "execution_count": 71
        }
      ],
      "execution_count": null,
      "metadata": {
        "colab": {
          "base_uri": "https://localhost:8080/"
        },
        "id": "L96ljGkkarUp",
        "outputId": "77c0d9d2-9e2a-47ad-ba81-472aee787df6"
      }
    },
    {
      "cell_type": "code",
      "source": [
        "np.arange(1,11,2)\n",
        "# Crea un array con números impares desde 1 hasta 10, con un paso de 2."
      ],
      "outputs": [
        {
          "output_type": "execute_result",
          "data": {
            "text/plain": [
              "array([1, 3, 5, 7, 9])"
            ]
          },
          "metadata": {},
          "execution_count": 70
        }
      ],
      "execution_count": null,
      "metadata": {
        "colab": {
          "base_uri": "https://localhost:8080/"
        },
        "id": "6M1OQU-warUq",
        "outputId": "6c2a12c8-421a-48f1-a0f2-a7442087bd2b"
      }
    },
    {
      "cell_type": "code",
      "source": [
        "np.zeros(4)# Crea un array de 4 ceros."
      ],
      "outputs": [
        {
          "output_type": "execute_result",
          "data": {
            "text/plain": [
              "array([0., 0., 0., 0.])"
            ]
          },
          "metadata": {},
          "execution_count": 12
        }
      ],
      "execution_count": null,
      "metadata": {
        "colab": {
          "base_uri": "https://localhost:8080/"
        },
        "id": "YXeCVVmkarUq",
        "outputId": "a7fe7686-eae4-44b3-e716-8604f66f77fd"
      }
    },
    {
      "cell_type": "code",
      "source": [
        "np.ones(5)# Crea un array de 5 unos."
      ],
      "outputs": [
        {
          "output_type": "execute_result",
          "data": {
            "text/plain": [
              "array([1., 1., 1., 1., 1.])"
            ]
          },
          "metadata": {},
          "execution_count": 68
        }
      ],
      "execution_count": null,
      "metadata": {
        "colab": {
          "base_uri": "https://localhost:8080/"
        },
        "id": "HSLji73ParUr",
        "outputId": "a336f82f-4cc2-4a43-b20c-b54d1ddb5039"
      }
    },
    {
      "cell_type": "code",
      "source": [
        "np.linspace(0, 1, 10)# Crea un array con 10 números espaciados uniformemente entre 0 y 1."
      ],
      "outputs": [
        {
          "output_type": "execute_result",
          "data": {
            "text/plain": [
              "array([0.        , 0.11111111, 0.22222222, 0.33333333, 0.44444444,\n",
              "       0.55555556, 0.66666667, 0.77777778, 0.88888889, 1.        ])"
            ]
          },
          "metadata": {},
          "execution_count": 69
        }
      ],
      "execution_count": null,
      "metadata": {
        "colab": {
          "base_uri": "https://localhost:8080/"
        },
        "id": "v7GeYIbDarUr",
        "outputId": "c8517c4d-b8a1-40fa-abac-f2504fe4c38a"
      }
    },
    {
      "cell_type": "code",
      "source": [
        "np.eye(1)# Crea una matriz identidad de tamaño 1x1.\n",
        "\n",
        "np.eye(2)# Crea una matriz identidad de tamaño 2x2.\n",
        "\n",
        "np.eye(50)# Crea una matriz identidad de tamaño 50x50."
      ],
      "outputs": [
        {
          "output_type": "execute_result",
          "data": {
            "text/plain": [
              "array([[1., 0., 0., ..., 0., 0., 0.],\n",
              "       [0., 1., 0., ..., 0., 0., 0.],\n",
              "       [0., 0., 1., ..., 0., 0., 0.],\n",
              "       ...,\n",
              "       [0., 0., 0., ..., 1., 0., 0.],\n",
              "       [0., 0., 0., ..., 0., 1., 0.],\n",
              "       [0., 0., 0., ..., 0., 0., 1.]])"
            ]
          },
          "metadata": {},
          "execution_count": 13
        }
      ],
      "execution_count": null,
      "metadata": {
        "colab": {
          "base_uri": "https://localhost:8080/"
        },
        "id": "9XCdBZWJarUs",
        "outputId": "8c01952b-b747-4aa1-a7b6-c88d76ad59d9"
      }
    },
    {
      "cell_type": "code",
      "source": [
        "size = 5           # Tamaño del array\n",
        "low, high = 1, 10  # Límites para enteros\n",
        "\n",
        "np.random.randint(0, 10, sample_size)  # Genera 5 números enteros entre 0 (inclusive) y 10 (exclusive)\n",
        "\n",
        "np.random.rand(sample_size)# Genera un array de números aleatorios con distribución uniforme entre 0 y 1.\n",
        "\n",
        "\n",
        "\n",
        "np.random.randn(sample_size)# Genera un array de números aleatorios con distribución normal estándar (media 0, desviación estándar 1).\n",
        "\n",
        "\n",
        "np.random.randint(low, high, sample_size)# 'low', 'high', y 'sample_size' deben ser definidos previamente, por ejemplo: low=0, high=10, sample_size=5"
      ],
      "outputs": [
        {
          "output_type": "execute_result",
          "data": {
            "text/plain": [
              "array([6, 6, 7, 6, 9])"
            ]
          },
          "metadata": {},
          "execution_count": 19
        }
      ],
      "execution_count": null,
      "metadata": {
        "colab": {
          "base_uri": "https://localhost:8080/"
        },
        "id": "uutjUce4arUs",
        "outputId": "557ab22d-45d1-4315-b6a7-71cfc426591d"
      }
    },
    {
      "cell_type": "code",
      "source": [
        "arr = np.array([0,1,2,3,4,5])# Define un array unidimensional.\n",
        "arr.reshape(2,3)# Remodela el array a una matriz de 2 filas y 3 columnas."
      ],
      "outputs": [
        {
          "output_type": "execute_result",
          "data": {
            "text/plain": [
              "array([[0, 1, 2],\n",
              "       [3, 4, 5]])"
            ]
          },
          "metadata": {},
          "execution_count": 21
        }
      ],
      "execution_count": null,
      "metadata": {
        "colab": {
          "base_uri": "https://localhost:8080/"
        },
        "id": "CjVFNz7IarUs",
        "outputId": "b3b4092d-532d-4dd1-f924-1f6077973d52"
      }
    },
    {
      "cell_type": "code",
      "source": [
        "arr = np.array([0,1,2,3,4,5])\n",
        "# Define un array unidimensional.\n",
        "\n",
        "arr.shape# Muestra la forma (dimensiones) actual del array.\n",
        "\n",
        "arr = arr.reshape(2,3)# Remodela el array a una matriz de 2 filas y 3 columnas.\n",
        "\n",
        "arr.shape# Muestra la nueva forma del array después de ser remodelado."
      ],
      "outputs": [
        {
          "output_type": "execute_result",
          "data": {
            "text/plain": [
              "(2, 3)"
            ]
          },
          "metadata": {},
          "execution_count": 75
        }
      ],
      "execution_count": null,
      "metadata": {
        "colab": {
          "base_uri": "https://localhost:8080/"
        },
        "id": "LH2YJGuvarUs",
        "outputId": "e82b0362-a757-49fa-f737-20e3f8cf09bd"
      }
    },
    {
      "cell_type": "code",
      "source": [
        "arr.reshape(2,3).shape # Remodela el array temporalmente y luego muestra la forma resultante."
      ],
      "outputs": [
        {
          "output_type": "execute_result",
          "data": {
            "text/plain": [
              "(2, 3)"
            ]
          },
          "metadata": {},
          "execution_count": 23
        }
      ],
      "execution_count": null,
      "metadata": {
        "colab": {
          "base_uri": "https://localhost:8080/"
        },
        "id": "yXn2OVTLarUt",
        "outputId": "5a90b386-c5f1-4cd5-c6cc-8c8b4f8d3c60"
      }
    },
    {
      "cell_type": "code",
      "source": [
        "simple_array = [1, 2, 3, 4]# Define un array simple (nota: esto es una lista, no un array de NumPy)."
      ],
      "outputs": [],
      "execution_count": null,
      "metadata": {
        "id": "JmkGPeT1arUt"
      }
    },
    {
      "cell_type": "code",
      "source": [
        "\n",
        "# Encuentra el valor máximo en el array.\n",
        "# (Nota: 'simple_array' es una lista, para usar .max() con NumPy, debería ser un np.array)\n",
        "# Por ejemplo: np.array(simple_array).max()\n",
        "simple_array = np.array([3, 1, 4, 2, 5])\n",
        "maximo = simple_array.max()"
      ],
      "outputs": [],
      "execution_count": null,
      "metadata": {
        "id": "KIlgXC7TarUt"
      }
    },
    {
      "cell_type": "code",
      "source": [
        "simple_array.argmax()# Encuentra el índice del valor máximo en el array."
      ],
      "outputs": [
        {
          "output_type": "execute_result",
          "data": {
            "text/plain": [
              "np.int64(4)"
            ]
          },
          "metadata": {},
          "execution_count": 35
        }
      ],
      "execution_count": null,
      "metadata": {
        "colab": {
          "base_uri": "https://localhost:8080/"
        },
        "id": "xN6WKmToarUt",
        "outputId": "4a4833c8-8035-44c8-b694-6f1b11a9083c"
      }
    },
    {
      "cell_type": "code",
      "source": [
        "simple_array.min()# Encuentra el valor mínimo en el array.\n",
        "\n",
        "simple_array.argmin()# Encuentra el índice del valor mínimo en el array."
      ],
      "outputs": [
        {
          "output_type": "execute_result",
          "data": {
            "text/plain": [
              "np.int64(1)"
            ]
          },
          "metadata": {},
          "execution_count": 38
        }
      ],
      "execution_count": null,
      "metadata": {
        "colab": {
          "base_uri": "https://localhost:8080/"
        },
        "id": "2CLYH5aearUt",
        "outputId": "8967e0bf-aa85-4711-cc03-6261136dfc65"
      }
    },
    {
      "cell_type": "code",
      "source": [
        "arr = np.arange(4)# Crea un array con números enteros de 0 a 3.\n",
        "arr# Muestra el array."
      ],
      "outputs": [
        {
          "output_type": "execute_result",
          "data": {
            "text/plain": [
              "array([0, 1, 2, 3])"
            ]
          },
          "metadata": {},
          "execution_count": 39
        }
      ],
      "execution_count": null,
      "metadata": {
        "colab": {
          "base_uri": "https://localhost:8080/"
        },
        "id": "wP6S_G-sarUt",
        "outputId": "2f4e91eb-f01a-4f94-ef87-a1cbf97d0e22"
      }
    },
    {
      "cell_type": "code",
      "source": [
        "2 + arr# Suma 2 a cada elemento del array."
      ],
      "outputs": [
        {
          "output_type": "execute_result",
          "data": {
            "text/plain": [
              "array([2, 3, 4, 5])"
            ]
          },
          "metadata": {},
          "execution_count": 40
        }
      ],
      "execution_count": null,
      "metadata": {
        "colab": {
          "base_uri": "https://localhost:8080/"
        },
        "id": "Y53i67GSarUu",
        "outputId": "b95e74d0-cc0b-4d6e-8485-dfd72d0ef9fd"
      }
    },
    {
      "cell_type": "code",
      "source": [
        "arr + arr# Suma cada elemento del array consigo mismo."
      ],
      "outputs": [
        {
          "output_type": "execute_result",
          "data": {
            "text/plain": [
              "array([0, 2, 4, 6])"
            ]
          },
          "metadata": {},
          "execution_count": 41
        }
      ],
      "execution_count": null,
      "metadata": {
        "colab": {
          "base_uri": "https://localhost:8080/"
        },
        "id": "3x_SasSdarUu",
        "outputId": "2522e3aa-8f63-45f7-ff1b-567f126ef152"
      }
    },
    {
      "cell_type": "code",
      "source": [
        "arr - 10# Resta 10 a cada elemento del array.\n",
        "\n",
        "arr - arr# Resta cada elemento del array consigo mismo (resultando en ceros)."
      ],
      "outputs": [
        {
          "output_type": "execute_result",
          "data": {
            "text/plain": [
              "array([0, 0, 0, 0])"
            ]
          },
          "metadata": {},
          "execution_count": 42
        }
      ],
      "execution_count": null,
      "metadata": {
        "colab": {
          "base_uri": "https://localhost:8080/"
        },
        "id": "pfRBC80CarUu",
        "outputId": "c3d93145-4ff4-4638-c85e-3d1b48245794"
      }
    },
    {
      "cell_type": "code",
      "source": [
        "6 * arr# Multiplica cada elemento del array por 6.\n",
        "\n",
        "arr * arr# Multiplica cada elemento del array por sí mismo."
      ],
      "outputs": [
        {
          "output_type": "execute_result",
          "data": {
            "text/plain": [
              "array([0, 1, 4, 9])"
            ]
          },
          "metadata": {},
          "execution_count": 43
        }
      ],
      "execution_count": null,
      "metadata": {
        "colab": {
          "base_uri": "https://localhost:8080/"
        },
        "id": "UHLuLUWqarUu",
        "outputId": "296d2465-542a-414d-da89-b3ee524651d5"
      }
    },
    {
      "cell_type": "code",
      "source": [
        "arr / 2# Divide cada elemento del array por 2."
      ],
      "outputs": [
        {
          "output_type": "execute_result",
          "data": {
            "text/plain": [
              "array([[0. , 0.5, 1. ],\n",
              "       [1.5, 2. , 2.5]])"
            ]
          },
          "metadata": {},
          "execution_count": 78
        }
      ],
      "execution_count": null,
      "metadata": {
        "colab": {
          "base_uri": "https://localhost:8080/"
        },
        "id": "QBICVXkbarUu",
        "outputId": "d740fe08-af00-467f-aa7d-2c7793e58ef1"
      }
    },
    {
      "cell_type": "code",
      "source": [
        "arr / arr# Divide cada elemento del array por sí mismo (división por cero para el primer elemento)."
      ],
      "outputs": [
        {
          "output_type": "stream",
          "name": "stderr",
          "text": [
            "<ipython-input-77-4211002065>:1: RuntimeWarning: invalid value encountered in divide\n",
            "  arr / arr# Divide cada elemento del array por sí mismo (división por cero para el primer elemento).\n"
          ]
        },
        {
          "output_type": "execute_result",
          "data": {
            "text/plain": [
              "array([[nan,  1.,  1.],\n",
              "       [ 1.,  1.,  1.]])"
            ]
          },
          "metadata": {},
          "execution_count": 77
        }
      ],
      "execution_count": null,
      "metadata": {
        "colab": {
          "base_uri": "https://localhost:8080/"
        },
        "id": "e_8K5v-warUu",
        "outputId": "8e39627d-1128-472c-d35e-4959cb72a393"
      }
    },
    {
      "cell_type": "code",
      "source": [
        "np.sqrt(arr)# Calcula la raíz cuadrada de cada elemento del array."
      ],
      "outputs": [
        {
          "output_type": "execute_result",
          "data": {
            "text/plain": [
              "array([[0.        , 1.        , 1.41421356],\n",
              "       [1.73205081, 2.        , 2.23606798]])"
            ]
          },
          "metadata": {},
          "execution_count": 76
        }
      ],
      "execution_count": null,
      "metadata": {
        "colab": {
          "base_uri": "https://localhost:8080/"
        },
        "id": "ZZxS4KmXarUv",
        "outputId": "6c8fd8b2-fb1c-4420-c867-704ad7f323f9"
      }
    },
    {
      "cell_type": "code",
      "source": [
        "np.exp(arr)# Calcula la exponencial de cada elemento del array.\n",
        "\n",
        "np.sin(arr)# Calcula el seno de cada elemento del array.\n",
        "\n",
        "np.cos(arr)# Calcula el coseno de cada elemento del array.\n",
        "\n",
        "np.log(arr)# Calcula el logaritmo natural de cada elemento del array."
      ],
      "outputs": [
        {
          "output_type": "execute_result",
          "data": {
            "text/plain": [
              "array([ 1.        ,  0.54030231, -0.41614684, -0.9899925 ])"
            ]
          },
          "metadata": {},
          "execution_count": 45
        }
      ],
      "execution_count": null,
      "metadata": {
        "colab": {
          "base_uri": "https://localhost:8080/"
        },
        "id": "McleEs0carUv",
        "outputId": "b1aabf1c-79eb-4f08-9cf3-753b13aee26f"
      }
    },
    {
      "cell_type": "code",
      "source": [
        "arr = np.random.rand(5)# Crea un array de 5 números aleatorios con distribución uniforme entre 0 y 1.\n",
        "arr"
      ],
      "outputs": [
        {
          "output_type": "execute_result",
          "data": {
            "text/plain": [
              "array([0.55522686, 0.70449506, 0.75658866, 0.93416041, 0.34440429])"
            ]
          },
          "metadata": {},
          "execution_count": 48
        }
      ],
      "execution_count": null,
      "metadata": {
        "colab": {
          "base_uri": "https://localhost:8080/"
        },
        "id": "t0HDrCZcarUv",
        "outputId": "f7eb76e2-210b-4723-843a-91543d663661"
      }
    },
    {
      "cell_type": "code",
      "source": [
        "arr = np.round(arr, 2)# Redondea cada elemento del array a 2 decimales."
      ],
      "outputs": [],
      "execution_count": null,
      "metadata": {
        "id": "CV2omduXarUv"
      }
    },
    {
      "cell_type": "code",
      "source": [
        "arr[0]# Accede al primer elemento del array (índice 0)."
      ],
      "outputs": [
        {
          "output_type": "execute_result",
          "data": {
            "text/plain": [
              "np.float64(0.56)"
            ]
          },
          "metadata": {},
          "execution_count": 51
        }
      ],
      "execution_count": null,
      "metadata": {
        "colab": {
          "base_uri": "https://localhost:8080/"
        },
        "id": "BWfU4zqzarUv",
        "outputId": "a6825763-60d3-40cf-ba7c-c3939fc6a9ee"
      }
    },
    {
      "cell_type": "code",
      "source": [
        "\n",
        "arr[:]# Selecciona todos los elementos del array.\n",
        "\n",
        "arr[1:]# Selecciona todos los elementos desde el índice 1 hasta el final.\n",
        "\n",
        "arr[1:4]# Selecciona los elementos desde el índice 1 hasta el índice 3 (excluido el 4)."
      ],
      "outputs": [
        {
          "output_type": "execute_result",
          "data": {
            "text/plain": [
              "array([0.7 , 0.76, 0.93])"
            ]
          },
          "metadata": {},
          "execution_count": 52
        }
      ],
      "execution_count": null,
      "metadata": {
        "colab": {
          "base_uri": "https://localhost:8080/"
        },
        "id": "ZRUdE4-GarUv",
        "outputId": "e78d4376-18ea-4643-b9dd-57f20d28656c"
      }
    },
    {
      "cell_type": "code",
      "source": [
        "arr[:] = 0# Asigna el valor 0 a todos los elementos del array.\n",
        "\n",
        "arr# Muestra el array modificado."
      ],
      "outputs": [
        {
          "output_type": "execute_result",
          "data": {
            "text/plain": [
              "array([0., 0., 0., 0., 0.])"
            ]
          },
          "metadata": {},
          "execution_count": 57
        }
      ],
      "execution_count": null,
      "metadata": {
        "colab": {
          "base_uri": "https://localhost:8080/"
        },
        "id": "DWpvLsV-arUw",
        "outputId": "fd079833-9c28-4123-abd2-39821c305797"
      }
    },
    {
      "cell_type": "code",
      "source": [
        "arr[2:5] = 0.5# Asigna el valor 0.5 a los elementos desde el índice 2 hasta el 4 (excluido el 5).\n",
        "\n",
        "arr# Muestra el array modificado."
      ],
      "outputs": [
        {
          "output_type": "execute_result",
          "data": {
            "text/plain": [
              "array([0.56, 0.7 , 0.5 , 0.5 , 0.5 ])"
            ]
          },
          "metadata": {},
          "execution_count": 56
        }
      ],
      "execution_count": null,
      "metadata": {
        "colab": {
          "base_uri": "https://localhost:8080/"
        },
        "id": "PADY_XVdarUw",
        "outputId": "92d417c7-50ce-4bd3-db15-6cf0d18d6bd4"
      }
    },
    {
      "cell_type": "code",
      "source": [
        "\n",
        "new_array = np.array([6, 7, 8, 9])# Define un nuevo array de NumPy.\n",
        "\n",
        "second_new_array = new_array[0:2]# Crea una vista del 'new_array', los cambios en 'second_new_array' afectarán a 'new_array'.\n",
        "\n",
        "second_new_array# Muestra la vista."
      ],
      "outputs": [
        {
          "output_type": "execute_result",
          "data": {
            "text/plain": [
              "array([6, 7])"
            ]
          },
          "metadata": {},
          "execution_count": 55
        }
      ],
      "execution_count": null,
      "metadata": {
        "colab": {
          "base_uri": "https://localhost:8080/"
        },
        "id": "-Px7ceErarU0",
        "outputId": "f12f073c-3a3a-43d7-f5d3-cdb74027de6f"
      }
    },
    {
      "cell_type": "code",
      "source": [
        "second_new_array[1] = 4# Modifica un elemento en la vista 'second_new_array'.\n",
        "\n",
        "second_new_array# Muestra la vista modificada."
      ],
      "outputs": [
        {
          "output_type": "execute_result",
          "data": {
            "text/plain": [
              "array([6, 4])"
            ]
          },
          "metadata": {},
          "execution_count": 58
        }
      ],
      "execution_count": null,
      "metadata": {
        "colab": {
          "base_uri": "https://localhost:8080/"
        },
        "id": "KRJNLzxiarU0",
        "outputId": "d891273f-07e6-437d-e3ae-a4dde1d1d98c"
      }
    },
    {
      "cell_type": "code",
      "source": [
        "new_array# Muestra el 'new_array' original para ver el efecto del cambio en la vista."
      ],
      "outputs": [
        {
          "output_type": "execute_result",
          "data": {
            "text/plain": [
              "array([6, 4, 8, 9])"
            ]
          },
          "metadata": {},
          "execution_count": 59
        }
      ],
      "execution_count": null,
      "metadata": {
        "colab": {
          "base_uri": "https://localhost:8080/"
        },
        "id": "fVeNtbqrarU0",
        "outputId": "e274bdb6-4082-47b4-9610-3fa9bafe1caf"
      }
    },
    {
      "cell_type": "code",
      "source": [
        "array_to_copy = np.array([1, 2, 3])# Define un array para copiar.\n",
        "\n",
        "copied_array = array_to_copy.copy()# Crea una copia independiente del array.\n",
        "\n",
        "array_to_copy# Muestra el array original.\n",
        "\n",
        "copied_array# Muestra el array copiado."
      ],
      "outputs": [
        {
          "output_type": "execute_result",
          "data": {
            "text/plain": [
              "array([1, 2, 3])"
            ]
          },
          "metadata": {},
          "execution_count": 60
        }
      ],
      "execution_count": null,
      "metadata": {
        "colab": {
          "base_uri": "https://localhost:8080/"
        },
        "id": "_sh1lmUparU0",
        "outputId": "7e47d0bd-9aa9-48ce-9f03-a7e9406e3814"
      }
    },
    {
      "cell_type": "code",
      "source": [
        "copied_array[0] = 9# Modifica el primer elemento del array copiado.\n",
        "\n",
        "copied_array# Muestra el array copiado modificado.\n",
        "\n",
        "array_to_copy# Muestra el array original (permanece sin cambios)."
      ],
      "outputs": [
        {
          "output_type": "execute_result",
          "data": {
            "text/plain": [
              "array([1, 2, 3])"
            ]
          },
          "metadata": {},
          "execution_count": 61
        }
      ],
      "execution_count": null,
      "metadata": {
        "colab": {
          "base_uri": "https://localhost:8080/"
        },
        "id": "zrp9uBkmarU1",
        "outputId": "20d177b0-4dd4-445a-d4cc-05d4d0a2151c"
      }
    },
    {
      "cell_type": "code",
      "source": [
        "mat = np.array([[5, 10, 15],[20, 25, 30],[35, 40, 45]])# Define una matriz (array bidimensional).\n",
        "mat# Muestra la matriz."
      ],
      "outputs": [
        {
          "output_type": "execute_result",
          "data": {
            "text/plain": [
              "array([[ 5, 10, 15],\n",
              "       [20, 25, 30],\n",
              "       [35, 40, 45]])"
            ]
          },
          "metadata": {},
          "execution_count": 62
        }
      ],
      "execution_count": null,
      "metadata": {
        "colab": {
          "base_uri": "https://localhost:8080/"
        },
        "id": "Qhx9rNGjarU1",
        "outputId": "ee831c14-cf6e-4e49-ba2d-6839712d0e0e"
      }
    },
    {
      "cell_type": "code",
      "source": [
        "mat[0]# Accede a la primera fila de la matriz (índice 0).\n",
        "mat[0][-1]# Accede al último elemento de la primera fila."
      ],
      "outputs": [
        {
          "output_type": "execute_result",
          "data": {
            "text/plain": [
              "np.int64(15)"
            ]
          },
          "metadata": {},
          "execution_count": 63
        }
      ],
      "execution_count": null,
      "metadata": {
        "colab": {
          "base_uri": "https://localhost:8080/"
        },
        "id": "0w6Tqmj7arU1",
        "outputId": "51784f0b-840f-4214-f735-a0fe7cdec34c"
      }
    },
    {
      "cell_type": "code",
      "source": [
        "mat[1:][:2]# Selecciona las filas desde la segunda (índice 1) hasta el final, y luego las dos primeras de esas filas seleccionadas."
      ],
      "outputs": [
        {
          "output_type": "execute_result",
          "data": {
            "text/plain": [
              "array([[20, 25, 30],\n",
              "       [35, 40, 45]])"
            ]
          },
          "metadata": {},
          "execution_count": 64
        }
      ],
      "execution_count": null,
      "metadata": {
        "colab": {
          "base_uri": "https://localhost:8080/"
        },
        "id": "_dF2h_vHarU1",
        "outputId": "7a3a2b7b-6cf3-4107-96a7-ca684de3916c"
      }
    },
    {
      "cell_type": "code",
      "source": [
        "arr = np.array([0.69, 0.94, 0.66, 0.73, 0.83])# Define un array de NumPy.\n",
        "\n",
        "arr > 0.7# Realiza una comparación booleana, devolviendo un array de True/False."
      ],
      "outputs": [
        {
          "output_type": "execute_result",
          "data": {
            "text/plain": [
              "array([False,  True, False,  True,  True])"
            ]
          },
          "metadata": {},
          "execution_count": 67
        }
      ],
      "execution_count": null,
      "metadata": {
        "colab": {
          "base_uri": "https://localhost:8080/"
        },
        "id": "p78Ob-uBarU1",
        "outputId": "3e042ad2-a558-4ef3-c396-e80f220d78f6"
      }
    },
    {
      "cell_type": "code",
      "source": [
        "arr[arr > 0.7]# Usa el array booleano para seleccionar solo los elementos donde la condición es True."
      ],
      "outputs": [
        {
          "output_type": "execute_result",
          "data": {
            "text/plain": [
              "array([0.94, 0.73, 0.83])"
            ]
          },
          "metadata": {},
          "execution_count": 66
        }
      ],
      "execution_count": null,
      "metadata": {
        "colab": {
          "base_uri": "https://localhost:8080/"
        },
        "id": "Vg-G99htarU1",
        "outputId": "a2a95c84-14e0-44a1-e12c-9ab0a94842bd"
      }
    }
  ],
  "metadata": {
    "colab": {
      "provenance": [],
      "include_colab_link": true
    },
    "kernelspec": {
      "display_name": "Python 3",
      "name": "python3"
    }
  },
  "nbformat": 4,
  "nbformat_minor": 0
}